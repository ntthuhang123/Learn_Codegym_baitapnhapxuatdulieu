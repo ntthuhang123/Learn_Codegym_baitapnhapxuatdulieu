{
 "cells": [
  {
   "cell_type": "code",
   "execution_count": 2,
   "id": "877b0d65",
   "metadata": {},
   "outputs": [
    {
     "name": "stdout",
     "output_type": "stream",
     "text": [
      "So hien tai la 0\n",
      "So hien tai la 1\n",
      "Nhap vao gia tri ban muon dem:3\n",
      "So hien tai la 4\n",
      "So hien tai la 6\n",
      "Nhap vao gia tri ban muon dem:3\n",
      "So hien tai la 9\n",
      "So hien tai la 10\n",
      "Nhap vao gia tri ban muon dem:3\n",
      "So hien tai la 13\n",
      "So hien tai la 16\n",
      "Nhap vao gia tri ban muon dem:3\n",
      "So hien tai la 19\n",
      "So hien tai la 21\n",
      "Nhap vao gia tri ban muon dem:3\n",
      "Gia tri hien tai la 24\n",
      "Ba co muon choi tiep khong?: y\n",
      "So hien tai la 0\n",
      "Nhap vao gia tri ban muon dem:2\n",
      "So hien tai la 2\n",
      "So hien tai la 3\n",
      "Nhap vao gia tri ban muon dem:2\n",
      "So hien tai la 5\n",
      "So hien tai la 6\n",
      "Nhap vao gia tri ban muon dem:2\n",
      "So hien tai la 8\n",
      "So hien tai la 11\n",
      "Nhap vao gia tri ban muon dem:2\n",
      "So hien tai la 13\n",
      "So hien tai la 15\n",
      "Nhap vao gia tri ban muon dem:2\n",
      "So hien tai la 17\n",
      "So hien tai la 19\n",
      "Nhap vao gia tri ban muon dem:2\n",
      "So hien tai la 21\n",
      "Gia tri hien tai la 22\n",
      "Ba co muon choi tiep khong?: z\n"
     ]
    }
   ],
   "source": [
    "import random\n",
    "while True:\n",
    "    current_number = 0\n",
    "    current_player = random.randint(0,1)\n",
    "    while current_number <= 21:\n",
    "        print(f\"So hien tai la {current_number}\")\n",
    "        if current_player == 0:\n",
    "            while True:\n",
    "                player_choice = int(input(\"Nhap vao gia tri ban muon dem:\"))\n",
    "                if player_choice == 1 or player_choice == 2 or player_choice == 3:\n",
    "                    current_number += player_choice\n",
    "                    break\n",
    "                else:\n",
    "                    print(\"Moi ban nhap lai: \")\n",
    "                    player_choice = int(input(\"Nhap vao gia tri ban muon dem:\"))\n",
    "            if current_number <= 21:\n",
    "                current_player = 1\n",
    "        else:\n",
    "            computer_choice = random.randint(1,3)\n",
    "            current_number += computer_choice\n",
    "            if current_number <=21:\n",
    "                current_player = 0\n",
    "    print(f'Gia tri hien tai la {current_number}')\n",
    "    play_again = input(\"Ba co muon choi tiep khong?: \")\n",
    "    if play_again == \"y\":\n",
    "        continue\n",
    "    else:\n",
    "        break\n"
   ]
  },
  {
   "cell_type": "code",
   "execution_count": 3,
   "id": "5ffeddf3",
   "metadata": {},
   "outputs": [
    {
     "name": "stdout",
     "output_type": "stream",
     "text": [
      "10 3\n",
      "11 2\n",
      "12 11\n",
      "13 2\n"
     ]
    }
   ],
   "source": [
    "\n",
    "for num in range(10, 14):\n",
    "\n",
    "   for i in range(2, num):\n",
    "\n",
    "       if num%i == 1:\n",
    "\n",
    "          print(num, i)\n",
    "\n",
    "          break\n",
    "\n",
    "\n",
    "\n",
    "\n",
    "\n",
    "\n",
    "\n",
    "\n",
    "\n",
    "\n",
    "\n",
    "\n"
   ]
  },
  {
   "cell_type": "code",
   "execution_count": 5,
   "id": "2a61ba4d",
   "metadata": {},
   "outputs": [
    {
     "name": "stdout",
     "output_type": "stream",
     "text": [
      "10 Chair\n",
      "10 Table\n",
      "20 Chair\n",
      "20 Table\n"
     ]
    }
   ],
   "source": [
    "numbers = [10, 20]\n",
    "\n",
    "items = ['Chair', 'Table']\n",
    "\n",
    "for x in numbers:\n",
    "\n",
    "  for y in items:\n",
    "\n",
    "    print(x, y)"
   ]
  },
  {
   "cell_type": "code",
   "execution_count": 6,
   "id": "48e90814",
   "metadata": {},
   "outputs": [
    {
     "name": "stdout",
     "output_type": "stream",
     "text": [
      "1\n",
      "2\n",
      "3\n",
      "4\n",
      "5\n",
      "6\n",
      "7\n",
      "8\n",
      "9\n",
      "10\n",
      "11\n",
      "12\n",
      "13\n",
      "14\n",
      "15\n",
      "16\n",
      "17\n",
      "18\n",
      "19\n",
      "20\n",
      "21\n",
      "22\n",
      "23\n",
      "24\n",
      "25\n",
      "26\n",
      "27\n",
      "28\n",
      "29\n",
      "30\n",
      "31\n",
      "32\n",
      "33\n",
      "34\n",
      "35\n",
      "36\n",
      "37\n",
      "38\n",
      "39\n",
      "40\n",
      "41\n",
      "42\n",
      "43\n",
      "44\n",
      "45\n",
      "46\n",
      "47\n",
      "48\n",
      "49\n",
      "50\n",
      "51\n",
      "52\n",
      "53\n",
      "54\n",
      "55\n",
      "56\n",
      "57\n",
      "58\n",
      "59\n",
      "60\n",
      "61\n",
      "62\n",
      "63\n",
      "64\n",
      "65\n",
      "66\n",
      "67\n",
      "68\n",
      "69\n",
      "70\n",
      "71\n",
      "72\n",
      "73\n",
      "74\n",
      "75\n",
      "76\n",
      "77\n",
      "78\n",
      "79\n",
      "80\n",
      "81\n",
      "82\n",
      "83\n",
      "84\n",
      "85\n",
      "86\n",
      "87\n",
      "88\n",
      "89\n",
      "90\n"
     ]
    }
   ],
   "source": [
    "x = 0\n",
    "\n",
    "for i in range(10):\n",
    "\n",
    "  for j in range(-1, -10, -1):\n",
    "\n",
    "    x += 1\n",
    "\n",
    "    print(x)"
   ]
  },
  {
   "cell_type": "code",
   "execution_count": 8,
   "id": "ac24379b",
   "metadata": {},
   "outputs": [
    {
     "name": "stdout",
     "output_type": "stream",
     "text": [
      "J,h,o,n,"
     ]
    }
   ],
   "source": [
    "for l in 'Jhon':\n",
    "\n",
    "   if l == 'o':\n",
    "\n",
    "      pass\n",
    "\n",
    "   print(l, end=',')"
   ]
  },
  {
   "cell_type": "code",
   "execution_count": 10,
   "id": "ca1675aa",
   "metadata": {},
   "outputs": [
    {
     "name": "stdout",
     "output_type": "stream",
     "text": [
      "['ab', 'cd']\n"
     ]
    }
   ],
   "source": [
    "x = ['ab', 'cd']\n",
    "\n",
    "for i in x:\n",
    "\n",
    "    i.upper()\n",
    "\n",
    "print(x)"
   ]
  },
  {
   "cell_type": "code",
   "execution_count": null,
   "id": "66ed271c",
   "metadata": {},
   "outputs": [],
   "source": []
  }
 ],
 "metadata": {
  "kernelspec": {
   "display_name": "Python 3 (ipykernel)",
   "language": "python",
   "name": "python3"
  },
  "language_info": {
   "codemirror_mode": {
    "name": "ipython",
    "version": 3
   },
   "file_extension": ".py",
   "mimetype": "text/x-python",
   "name": "python",
   "nbconvert_exporter": "python",
   "pygments_lexer": "ipython3",
   "version": "3.9.12"
  }
 },
 "nbformat": 4,
 "nbformat_minor": 5
}
