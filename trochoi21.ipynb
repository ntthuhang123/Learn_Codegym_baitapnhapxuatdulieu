{
 "cells": [
  {
   "cell_type": "code",
   "execution_count": 2,
   "id": "6d0781a8",
   "metadata": {},
   "outputs": [
    {
     "name": "stdout",
     "output_type": "stream",
     "text": [
      "So hien tai la 0\n",
      "So hien tai la 1\n",
      "Nhap vao gia tri ban muon dem:3\n",
      "So hien tai la 4\n",
      "So hien tai la 6\n",
      "Nhap vao gia tri ban muon dem:3\n",
      "So hien tai la 9\n",
      "So hien tai la 10\n",
      "Nhap vao gia tri ban muon dem:3\n",
      "So hien tai la 13\n",
      "So hien tai la 16\n",
      "Nhap vao gia tri ban muon dem:3\n",
      "So hien tai la 19\n",
      "So hien tai la 21\n",
      "Nhap vao gia tri ban muon dem:3\n",
      "Gia tri hien tai la 24\n",
      "Ba co muon choi tiep khong?: y\n",
      "So hien tai la 0\n",
      "Nhap vao gia tri ban muon dem:2\n",
      "So hien tai la 2\n",
      "So hien tai la 3\n",
      "Nhap vao gia tri ban muon dem:2\n",
      "So hien tai la 5\n",
      "So hien tai la 6\n",
      "Nhap vao gia tri ban muon dem:2\n",
      "So hien tai la 8\n",
      "So hien tai la 11\n",
      "Nhap vao gia tri ban muon dem:2\n",
      "So hien tai la 13\n",
      "So hien tai la 15\n",
      "Nhap vao gia tri ban muon dem:2\n",
      "So hien tai la 17\n",
      "So hien tai la 19\n",
      "Nhap vao gia tri ban muon dem:2\n",
      "So hien tai la 21\n",
      "Gia tri hien tai la 22\n",
      "Ba co muon choi tiep khong?: z\n"
     ]
    }
   ],
   "source": [
    "import random\n",
    "while True:\n",
    "    current_number = 0\n",
    "    current_player = random.randint(0,1)\n",
    "    while current_number <= 21:\n",
    "        print(f\"So hien tai la {current_number}\")\n",
    "        if current_player == 0:\n",
    "            while True:\n",
    "                player_choice = int(input(\"Nhap vao gia tri ban muon dem:\"))\n",
    "                if player_choice == 1 or player_choice == 2 or player_choice == 3:\n",
    "                    current_number += player_choice\n",
    "                    break\n",
    "                else:\n",
    "                    print(\"Moi ban nhap lai: \")\n",
    "                    player_choice = int(input(\"Nhap vao gia tri ban muon dem:\"))\n",
    "            if current_number <= 21:\n",
    "                current_player = 1\n",
    "        else:\n",
    "            computer_choice = random.randint(1,3)\n",
    "            current_number += computer_choice\n",
    "            if current_number <=21:\n",
    "                current_player = 0\n",
    "    print(f'Gia tri hien tai la {current_number}')\n",
    "    play_again = input(\"Ba co muon choi tiep khong?: \")\n",
    "    if play_again == \"y\":\n",
    "        continue\n",
    "    else:\n",
    "        break\n"
   ]
  },
  {
   "cell_type": "code",
   "execution_count": null,
   "id": "515d3e2a",
   "metadata": {},
   "outputs": [],
   "source": [
    "\n",
    "\n",
    "\n",
    "\n",
    "\n",
    "\n",
    "\n",
    "\n",
    "\n",
    "\n",
    "\n",
    "\n",
    "\n",
    "\n"
   ]
  }
 ],
 "metadata": {
  "kernelspec": {
   "display_name": "Python 3 (ipykernel)",
   "language": "python",
   "name": "python3"
  },
  "language_info": {
   "codemirror_mode": {
    "name": "ipython",
    "version": 3
   },
   "file_extension": ".py",
   "mimetype": "text/x-python",
   "name": "python",
   "nbconvert_exporter": "python",
   "pygments_lexer": "ipython3",
   "version": "3.9.12"
  }
 },
 "nbformat": 4,
 "nbformat_minor": 5
}
