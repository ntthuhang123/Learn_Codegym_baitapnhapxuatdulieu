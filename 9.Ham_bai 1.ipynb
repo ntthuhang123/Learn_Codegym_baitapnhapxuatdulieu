{
 "cells": [
  {
   "cell_type": "code",
   "execution_count": null,
   "id": "0a2238d2",
   "metadata": {},
   "outputs": [],
   "source": [
    "import turtle\n",
    "\n",
    "t = turtle.Turtle()\n",
    "\n",
    "\n",
    "def draw_rectangle(rong, dai, color):\n",
    "    t.fillcolor(color)\n",
    "    t.begin_fill()\n",
    "    for i in range(2):\n",
    "        t.forward(rong)\n",
    "        t.left(90)\n",
    "        t.forward(dai)\n",
    "        t.left(90)\n",
    "    t.end_fill()\n",
    "\n",
    "\n",
    "def draw_2rectangle():\n",
    "    draw_rectangle(50, 100,'red')\n",
    "    t.left(45)\n",
    "    t.penup()\n",
    "    t.forward(25)\n",
    "    t.right(45)\n",
    "    t.pendown()\n",
    "    draw_rectangle(17, 33,'white')\n",
    "\n",
    "\n",
    "draw_2rectangle()\n",
    "t.penup()\n",
    "t.setpos(50, 0)\n",
    "t.pendown()\n",
    "draw_2rectangle()\n",
    "t.penup()\n",
    "t.setpos(0, 100)\n",
    "t.pendown()\n",
    "draw_2rectangle()\n",
    "t.penup()\n",
    "t.setpos(50, 100)\n",
    "t.pendown()\n",
    "draw_2rectangle()\n",
    "t.penup()\n",
    "t.setpos(100, 0)\n",
    "t.pendown()\n",
    "draw_rectangle(100,100,'grey')\n",
    "t.forward(25)\n",
    "draw_rectangle(25,50,'green')\n",
    "t.forward(25)\n",
    "draw_rectangle(25,50,'green')\n",
    "\n",
    "\n",
    "turtle.done()"
   ]
  }
 ],
 "metadata": {
  "kernelspec": {
   "display_name": "Python 3 (ipykernel)",
   "language": "python",
   "name": "python3"
  },
  "language_info": {
   "codemirror_mode": {
    "name": "ipython",
    "version": 3
   },
   "file_extension": ".py",
   "mimetype": "text/x-python",
   "name": "python",
   "nbconvert_exporter": "python",
   "pygments_lexer": "ipython3",
   "version": "3.9.12"
  }
 },
 "nbformat": 4,
 "nbformat_minor": 5
}
