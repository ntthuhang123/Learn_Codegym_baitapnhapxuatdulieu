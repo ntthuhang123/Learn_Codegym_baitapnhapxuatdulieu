{
 "cells": [
  {
   "cell_type": "code",
   "execution_count": null,
   "id": "0f2a75aa",
   "metadata": {},
   "outputs": [],
   "source": [
    "def print_ba_so(a,b,c):\n",
    "    soLon = max(a,b,c)\n",
    "    soNho = min(a,b,c)\n",
    "    soGiua = a+b+c - soLon - soNho\n",
    "    print(soNho,soGiua,soLon)\n",
    "print_ba_so(5,8,9)"
   ]
  }
 ],
 "metadata": {
  "kernelspec": {
   "display_name": "Python 3 (ipykernel)",
   "language": "python",
   "name": "python3"
  },
  "language_info": {
   "codemirror_mode": {
    "name": "ipython",
    "version": 3
   },
   "file_extension": ".py",
   "mimetype": "text/x-python",
   "name": "python",
   "nbconvert_exporter": "python",
   "pygments_lexer": "ipython3",
   "version": "3.9.12"
  }
 },
 "nbformat": 4,
 "nbformat_minor": 5
}
