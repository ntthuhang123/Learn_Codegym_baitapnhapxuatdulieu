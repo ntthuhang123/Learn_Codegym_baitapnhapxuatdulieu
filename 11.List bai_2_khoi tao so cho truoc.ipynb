{
 "cells": [
  {
   "cell_type": "code",
   "execution_count": null,
   "id": "e7ee65fb",
   "metadata": {},
   "outputs": [],
   "source": [
    "my_list = [1, 2, 100, 20, 1011,2001]\n",
    "my_list.sort()\n",
    "print(my_list[len(my_list)-2:])"
   ]
  }
 ],
 "metadata": {
  "kernelspec": {
   "display_name": "Python 3 (ipykernel)",
   "language": "python",
   "name": "python3"
  },
  "language_info": {
   "codemirror_mode": {
    "name": "ipython",
    "version": 3
   },
   "file_extension": ".py",
   "mimetype": "text/x-python",
   "name": "python",
   "nbconvert_exporter": "python",
   "pygments_lexer": "ipython3",
   "version": "3.9.12"
  }
 },
 "nbformat": 4,
 "nbformat_minor": 5
}
