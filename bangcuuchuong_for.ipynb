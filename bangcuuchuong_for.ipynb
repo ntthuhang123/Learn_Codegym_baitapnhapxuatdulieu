{
 "cells": [
  {
   "cell_type": "code",
   "execution_count": null,
   "id": "37d48b83",
   "metadata": {},
   "outputs": [],
   "source": [
    "for i in range(1,10):\n",
    "    for j in range(1,11):\n",
    "        print(f\"{i}x{i} = {i*j}\")\n"
   ]
  }
 ],
 "metadata": {
  "kernelspec": {
   "display_name": "Python 3 (ipykernel)",
   "language": "python",
   "name": "python3"
  },
  "language_info": {
   "codemirror_mode": {
    "name": "ipython",
    "version": 3
   },
   "file_extension": ".py",
   "mimetype": "text/x-python",
   "name": "python",
   "nbconvert_exporter": "python",
   "pygments_lexer": "ipython3",
   "version": "3.9.12"
  }
 },
 "nbformat": 4,
 "nbformat_minor": 5
}
