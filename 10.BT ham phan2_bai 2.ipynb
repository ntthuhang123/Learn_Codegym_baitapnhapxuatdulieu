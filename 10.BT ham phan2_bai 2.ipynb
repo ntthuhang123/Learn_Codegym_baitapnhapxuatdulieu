{
 "cells": [
  {
   "cell_type": "code",
   "execution_count": null,
   "id": "ad0aee09",
   "metadata": {},
   "outputs": [],
   "source": [
    "def len_of_string(chuoi):\n",
    "    doDai = 0\n",
    "    for i in chuoi:\n",
    "        doDai+=1\n",
    "    return doDai\n",
    "print(len_of_string('Thu Hang'))"
   ]
  }
 ],
 "metadata": {
  "kernelspec": {
   "display_name": "Python 3 (ipykernel)",
   "language": "python",
   "name": "python3"
  },
  "language_info": {
   "codemirror_mode": {
    "name": "ipython",
    "version": 3
   },
   "file_extension": ".py",
   "mimetype": "text/x-python",
   "name": "python",
   "nbconvert_exporter": "python",
   "pygments_lexer": "ipython3",
   "version": "3.9.12"
  }
 },
 "nbformat": 4,
 "nbformat_minor": 5
}
