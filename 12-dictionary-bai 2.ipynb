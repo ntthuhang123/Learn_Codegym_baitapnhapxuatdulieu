{
 "cells": [
  {
   "cell_type": "code",
   "execution_count": null,
   "id": "9ca3fa4f",
   "metadata": {},
   "outputs": [],
   "source": [
    "def count_word(text):\n",
    "    num_words = {}\n",
    "    list_word = text.split()\n",
    "    for word in list_word:\n",
    "        word = word.lower().strip()\n",
    "        if num_words.get(word) is None:\n",
    "            num_words[word] = 1\n",
    "        else:\n",
    "            print(word)\n",
    "            num_words[word] = num_words[word]+1\n",
    "    return num_words\n",
    "\n",
    "print(count_word(\"toi la toi cho ban ban\"))"
   ]
  }
 ],
 "metadata": {
  "kernelspec": {
   "display_name": "Python 3 (ipykernel)",
   "language": "python",
   "name": "python3"
  },
  "language_info": {
   "codemirror_mode": {
    "name": "ipython",
    "version": 3
   },
   "file_extension": ".py",
   "mimetype": "text/x-python",
   "name": "python",
   "nbconvert_exporter": "python",
   "pygments_lexer": "ipython3",
   "version": "3.9.12"
  }
 },
 "nbformat": 4,
 "nbformat_minor": 5
}
