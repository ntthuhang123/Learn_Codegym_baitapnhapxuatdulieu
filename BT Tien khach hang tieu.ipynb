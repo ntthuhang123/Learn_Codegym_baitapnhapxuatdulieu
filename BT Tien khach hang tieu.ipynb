{
 "cells": [
  {
   "cell_type": "code",
   "execution_count": null,
   "id": "cb0d50d6",
   "metadata": {},
   "outputs": [],
   "source": [
    "money = float(input(\"Nhap so tin da chi: \"))\n",
    "if money < 75:\n",
    "    print(f\"So tien phai tra la {money}\")\n",
    "elif money >= 75 and money < 100:\n",
    "    print(f\"So tien phai tra la {money - 15}\")\n",
    "elif money >=100 and money < 150:\n",
    "    print(f\"So tien phai tra la {money - 25}\")\n",
    "else:\n",
    "    print(f\"So tien phai tra la {money - 50}\")\n"
   ]
  }
 ],
 "metadata": {
  "kernelspec": {
   "display_name": "Python 3 (ipykernel)",
   "language": "python",
   "name": "python3"
  },
  "language_info": {
   "codemirror_mode": {
    "name": "ipython",
    "version": 3
   },
   "file_extension": ".py",
   "mimetype": "text/x-python",
   "name": "python",
   "nbconvert_exporter": "python",
   "pygments_lexer": "ipython3",
   "version": "3.9.12"
  }
 },
 "nbformat": 4,
 "nbformat_minor": 5
}
