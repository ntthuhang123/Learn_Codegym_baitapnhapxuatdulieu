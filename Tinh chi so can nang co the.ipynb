{
 "cells": [
  {
   "cell_type": "code",
   "execution_count": null,
   "id": "0864f4ee",
   "metadata": {},
   "outputs": [],
   "source": [
    "canNang = int(input(\"Nhap can nang nguoi dung: \"))\n",
    "chieuCao = int(input(\"Nap chieu cao nguoi dung: \"))\n",
    "BMI = canNang / (chieuCao**2)\n",
    "if BMI > 40:\n",
    "    print(\"ra béo phì cấp độ III\")\n",
    "elif BMI >= 35 and BMI < 40:\n",
    "    print(\"béo phì cấp độ II\")\n",
    "elif BMI >= 30 and BMI < 35:\n",
    "    print(\"Beo phi cap do I\")\n",
    "elif BMI >= 25 and BMI < 30:\n",
    "    print(\"Thua can\")\n",
    "elif BMI >= 18.5:\n",
    "    print(\"Binh thuong\")\n",
    "elif BMI >= 17 and BMI < 18.5:\n",
    "    print(\"Gay cap do I\")\n",
    "elif BMI >= 16 and BMI < 17:\n",
    "    print(\" Gay cap do II\")\n",
    "else:\n",
    "    print(\"Gay cap do III\")\n",
    "\n",
    "\n"
   ]
  }
 ],
 "metadata": {
  "kernelspec": {
   "display_name": "Python 3 (ipykernel)",
   "language": "python",
   "name": "python3"
  },
  "language_info": {
   "codemirror_mode": {
    "name": "ipython",
    "version": 3
   },
   "file_extension": ".py",
   "mimetype": "text/x-python",
   "name": "python",
   "nbconvert_exporter": "python",
   "pygments_lexer": "ipython3",
   "version": "3.9.12"
  }
 },
 "nbformat": 4,
 "nbformat_minor": 5
}
