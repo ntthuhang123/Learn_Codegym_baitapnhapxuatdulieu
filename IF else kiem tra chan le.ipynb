{
 "cells": [
  {
   "cell_type": "code",
   "execution_count": null,
   "id": "7600d9c9",
   "metadata": {},
   "outputs": [],
   "source": [
    "x = float(input(\"Nhap vao mot so bat ki: \"))\n",
    "if x % 2 == 1:\n",
    "    print(f\"{x} la so le\")\n",
    "elif x % 2 == 0:\n",
    "    print(f\"{x}la so chan\")\n",
    "else:\n",
    "    print(f\"{x} khong phai so nguyen\")"
   ]
  }
 ],
 "metadata": {
  "kernelspec": {
   "display_name": "Python 3 (ipykernel)",
   "language": "python",
   "name": "python3"
  },
  "language_info": {
   "codemirror_mode": {
    "name": "ipython",
    "version": 3
   },
   "file_extension": ".py",
   "mimetype": "text/x-python",
   "name": "python",
   "nbconvert_exporter": "python",
   "pygments_lexer": "ipython3",
   "version": "3.9.12"
  }
 },
 "nbformat": 4,
 "nbformat_minor": 5
}
