{
 "cells": [
  {
   "cell_type": "code",
   "execution_count": null,
   "id": "2e2a546c",
   "metadata": {},
   "outputs": [],
   "source": [
    "import turtle\n",
    "\n",
    "t = turtle.Turtle()\n",
    "diemBanDau = t.position()\n",
    "r = 10\n",
    "i = 1\n",
    "n = float(input(\"Nhap vao khoang cach: \"))\n",
    "\n",
    "while True:\n",
    "    i = i + 1\n",
    "    t.circle(r + i,45)\n",
    "    khoangCach = t.distance(0, 0)\n",
    "    print(khoangCach)\n",
    "    if khoangCach >= n:\n",
    "        break"
   ]
  }
 ],
 "metadata": {
  "kernelspec": {
   "display_name": "Python 3 (ipykernel)",
   "language": "python",
   "name": "python3"
  },
  "language_info": {
   "codemirror_mode": {
    "name": "ipython",
    "version": 3
   },
   "file_extension": ".py",
   "mimetype": "text/x-python",
   "name": "python",
   "nbconvert_exporter": "python",
   "pygments_lexer": "ipython3",
   "version": "3.9.12"
  }
 },
 "nbformat": 4,
 "nbformat_minor": 5
}
