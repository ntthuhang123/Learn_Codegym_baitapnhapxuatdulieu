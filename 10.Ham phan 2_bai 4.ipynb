{
 "cells": [
  {
   "cell_type": "code",
   "execution_count": null,
   "id": "aa22a4d9",
   "metadata": {},
   "outputs": [],
   "source": [
    "def find_min_inlist(mylist):\n",
    "    min_number = mylist[0]\n",
    "    for i in mylist:\n",
    "        if i < min_number:\n",
    "            min_number = i\n",
    "    return  min_number\n",
    "print(find_min_inlist([9,5,100,3]))"
   ]
  }
 ],
 "metadata": {
  "kernelspec": {
   "display_name": "Python 3 (ipykernel)",
   "language": "python",
   "name": "python3"
  },
  "language_info": {
   "codemirror_mode": {
    "name": "ipython",
    "version": 3
   },
   "file_extension": ".py",
   "mimetype": "text/x-python",
   "name": "python",
   "nbconvert_exporter": "python",
   "pygments_lexer": "ipython3",
   "version": "3.9.12"
  }
 },
 "nbformat": 4,
 "nbformat_minor": 5
}
