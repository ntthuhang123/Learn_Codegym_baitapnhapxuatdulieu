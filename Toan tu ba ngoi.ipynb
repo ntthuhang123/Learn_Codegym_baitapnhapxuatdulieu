{
 "cells": [
  {
   "cell_type": "code",
   "execution_count": null,
   "id": "4acf4183",
   "metadata": {},
   "outputs": [],
   "source": [
    "x = int(input(\"Nhap vao mot so nguyen: \"))\n",
    "s = 'chan' if x % 2 ==0 else 'le'\n",
    "print(s)"
   ]
  }
 ],
 "metadata": {
  "kernelspec": {
   "display_name": "Python 3 (ipykernel)",
   "language": "python",
   "name": "python3"
  },
  "language_info": {
   "codemirror_mode": {
    "name": "ipython",
    "version": 3
   },
   "file_extension": ".py",
   "mimetype": "text/x-python",
   "name": "python",
   "nbconvert_exporter": "python",
   "pygments_lexer": "ipython3",
   "version": "3.9.12"
  }
 },
 "nbformat": 4,
 "nbformat_minor": 5
}
