{
 "cells": [
  {
   "cell_type": "code",
   "execution_count": null,
   "id": "561162e6",
   "metadata": {},
   "outputs": [],
   "source": [
    "def transform(tuDien, input_word):\n",
    "    translated_word = ''\n",
    "    for i in tuDien:\n",
    "        if input_word == i:\n",
    "            print(tuDien[i])\n",
    "            translated_word = tuDien[i]\n",
    "    return translated_word\n",
    "input_word = input(\"Nhap vao tu ban can dich: \")\n",
    "\n",
    "translated_word = transform({'friend':'ban', 'love':'yeu','project':'du an'},input_word)\n",
    "\n",
    "if not translated_word:\n",
    "    print(\"khong co tu nay trong tu dien\")\n"
   ]
  }
 ],
 "metadata": {
  "kernelspec": {
   "display_name": "Python 3 (ipykernel)",
   "language": "python",
   "name": "python3"
  },
  "language_info": {
   "codemirror_mode": {
    "name": "ipython",
    "version": 3
   },
   "file_extension": ".py",
   "mimetype": "text/x-python",
   "name": "python",
   "nbconvert_exporter": "python",
   "pygments_lexer": "ipython3",
   "version": "3.9.12"
  }
 },
 "nbformat": 4,
 "nbformat_minor": 5
}
